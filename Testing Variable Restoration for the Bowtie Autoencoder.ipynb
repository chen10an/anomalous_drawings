{
 "cells": [
  {
   "cell_type": "code",
   "execution_count": 1,
   "metadata": {
    "collapsed": true
   },
   "outputs": [],
   "source": [
    "# libraries\n",
    "import numpy as np\n",
    "from tqdm import tqdm\n",
    "import tensorflow as tf\n",
    "\n",
    "# files\n",
    "import utils\n",
    "from model import Autoencoder"
   ]
  },
  {
   "cell_type": "code",
   "execution_count": 2,
   "metadata": {},
   "outputs": [
    {
     "name": "stdout",
     "output_type": "stream",
     "text": [
      "INFO:tensorflow:Restoring parameters from bowtie_model/model.ckpt\n"
     ]
    }
   ],
   "source": [
    "# the relevant variables are saved from the \"Bowtie Drawing Autoencoder\" notebook\n",
    "# so let's try to reproduce that notebook's results to confirm that the saved variables\n",
    "# have been restored correctly\n",
    "\n",
    "tf.reset_default_graph()\n",
    "\n",
    "# same seed\n",
    "np.random.seed(0)\n",
    "\n",
    "# same data\n",
    "data = np.load('full%2Fnumpy_bitmap%2Fbowtie.npy')\n",
    "data = data/255\n",
    "np.random.shuffle(data)\n",
    "eightyPercent = int(np.rint(data.shape[0]*0.8))\n",
    "X_train = data[:eightyPercent]\n",
    "X_test = data[eightyPercent:]\n",
    "\n",
    "# create the same autoencoder model but without training\n",
    "model = Autoencoder(X_train, X_test)\n",
    "\n",
    "# instead set the weights with the restored variables\n",
    "model.saver.restore(model.sess, \"bowtie_model/model.ckpt\")"
   ]
  },
  {
   "cell_type": "code",
   "execution_count": 3,
   "metadata": {},
   "outputs": [
    {
     "name": "stdout",
     "output_type": "stream",
     "text": [
      "reconstruction:\n"
     ]
    },
    {
     "data": {
      "image/png": "[encoded data removed]",
      "text/plain": [
       "<matplotlib.figure.Figure at 0x101767780>"
      ]
     },
     "metadata": {},
     "output_type": "display_data"
    },
    {
     "name": "stdout",
     "output_type": "stream",
     "text": [
      "true image:\n"
     ]
    },
    {
     "data": {
      "image/png": "[encoded data removed]",
      "text/plain": [
       "<matplotlib.figure.Figure at 0x10e0300f0>"
      ]
     },
     "metadata": {},
     "output_type": "display_data"
    },
    {
     "name": "stdout",
     "output_type": "stream",
     "text": [
      "0.0633372\n"
     ]
    }
   ],
   "source": [
    "pred_train = model.sess.run(model.decoder, feed_dict={model.X: X_train})\n",
    "\n",
    "# example 10 (abnormal) from the training data\n",
    "print(\"reconstruction:\")\n",
    "utils.plotImgs(np.reshape(pred_train[10], (1,28,28)), 1, 1, figsize=(3,3), cmap='gray_r')\n",
    "\n",
    "print(\"true image:\")\n",
    "utils.plotImgs(np.reshape(X_train[10], (1,28,28)), 1, 1, figsize=(3,3), cmap='gray_r')\n",
    "\n",
    "# example 10 (abnormal) from the training data\n",
    "c10 = model.sess.run(model.cost, {model.X:np.expand_dims(X_train[10], axis=0)})\n",
    "print(c10)  # supposed to be 0.06333721429109573"
   ]
  }
 ],
 "metadata": {
  "kernelspec": {
   "display_name": "Python3 (ml)",
   "language": "python",
   "name": "ml"
  },
  "language_info": {
   "codemirror_mode": {
    "name": "ipython",
    "version": 3
   },
   "file_extension": ".py",
   "mimetype": "text/x-python",
   "name": "python",
   "nbconvert_exporter": "python",
   "pygments_lexer": "ipython3",
   "version": "3.6.2"
  }
 },
 "nbformat": 4,
 "nbformat_minor": 2
}
